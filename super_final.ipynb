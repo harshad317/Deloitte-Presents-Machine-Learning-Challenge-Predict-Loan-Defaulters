{
 "cells": [
  {
   "cell_type": "code",
   "execution_count": 1,
   "id": "d05df3ed",
   "metadata": {},
   "outputs": [],
   "source": [
    "import pandas as pd\n",
    "pd.set_option('display.max_columns', None)\n",
    "import numpy as np\n",
    "import matplotlib.pyplot as plt\n",
    "import seaborn as sns\n",
    "import time as time\n",
    "\n",
    "from sklearn.preprocessing import MinMaxScaler, RobustScaler, StandardScaler, LabelEncoder\n",
    "from sklearn.model_selection import train_test_split, StratifiedKFold\n",
    "from sklearn.metrics import log_loss\n",
    "\n",
    "from catboost import CatBoostClassifier\n",
    "from xgboost import XGBClassifier\n",
    "from lightgbm import LGBMClassifier\n",
    "from category_encoders import CatBoostEncoder, JamesSteinEncoder, WOEEncoder\n",
    "from feature_engine.outliers import Winsorizer\n",
    "\n",
    "import warnings\n",
    "warnings.filterwarnings('ignore')"
   ]
  },
  {
   "cell_type": "code",
   "execution_count": 2,
   "id": "53030461",
   "metadata": {},
   "outputs": [],
   "source": [
    "train= pd.read_csv('train.csv')\n",
    "test= pd.read_csv('test.csv')\n",
    "sample= pd.read_csv('submission.csv')"
   ]
  },
  {
   "cell_type": "code",
   "execution_count": 3,
   "id": "5bd728b5",
   "metadata": {},
   "outputs": [],
   "source": [
    "train= train.drop(['Payment Plan', 'Accounts Delinquent'], axis= 1)\n",
    "test= test.drop(['Payment Plan', 'Accounts Delinquent'], axis= 1)"
   ]
  },
  {
   "cell_type": "code",
   "execution_count": 4,
   "id": "8e730411",
   "metadata": {},
   "outputs": [],
   "source": [
    "df= pd.concat([train, test], axis=0)"
   ]
  },
  {
   "cell_type": "code",
   "execution_count": 5,
   "id": "9320dda3",
   "metadata": {},
   "outputs": [],
   "source": [
    "df= df.rename(columns={'ID': 'id',\n",
    "                   'Loan Amount': 'loan_amount',\n",
    "                   'Funded Amount': 'funded_amount',\n",
    "                   'Funded Amount Investor': 'funded_amount_investor',\n",
    "                   'Term': 'term',\n",
    "                   'Batch Enrolled': 'batch_enrolled',\n",
    "                   'Interest Rate': 'interest_rate',\n",
    "                   'Grade': 'grade',\n",
    "                   'Sub Grade': 'sub_grade',\n",
    "                   'Employment Duration': 'emp_duration',\n",
    "                   'Home Ownership': 'home_owener',\n",
    "                   'Verification Status': 'verification_status',\n",
    "                   'Loan Title': 'loan_title',\n",
    "                   'Debit to Income': 'debit_to_income',\n",
    "                   'Delinquency - two years': 'delinquency_two_years',\n",
    "                   'Inquires - six months': 'inquires_six_months',\n",
    "                   'Open Account': 'open_account',\n",
    "                   'Public Record': 'public_record',\n",
    "                   'Revolving Balance': 'revolving_balance',\n",
    "                   'Revolving Utilities': 'revolving_uitilities',\n",
    "                   'Total Accounts': 'total_accounts',\n",
    "                   'Initial List Status': 'initial_list_status',\n",
    "                   'Total Received Interest': 'total_interest_received',\n",
    "                   'Total Received Late Fee': 'total_late_fee_received',\n",
    "                   'Recoveries': 'recoveries',\n",
    "                   'Collection Recovery Fee': 'collection_recovery_fee',\n",
    "                   'Collection 12 months Medical': 'collection_12_months_medical',\n",
    "                   'Application Type': 'application_type',\n",
    "                   'Last week Pay': 'last_week_pay',\n",
    "                   'Total Collection Amount': 'total_amount_collected',\n",
    "                   'Total Current Balance': 'total_current_balance',\n",
    "                   'Total Revolving Credit Limit': 'total_revolving_credit_limit'})"
   ]
  },
  {
   "cell_type": "code",
   "execution_count": 6,
   "id": "223d6588",
   "metadata": {},
   "outputs": [],
   "source": [
    "win= Winsorizer(capping_method='gaussian', tail='right', fold=1.5, variables=['funded_amount_investor', 'interest_rate',\n",
    "                                                                         'home_owener', 'total_interest_received',\n",
    "                                                                         'total_current_balance', 'total_revolving_credit_limit'])\n",
    "win.fit(df)\n",
    "df= win.transform(df)"
   ]
  },
  {
   "cell_type": "code",
   "execution_count": null,
   "id": "bf5440da",
   "metadata": {},
   "outputs": [],
   "source": [
    "df_all_corr = df.corr().abs().unstack().sort_values(kind=\"quicksort\", ascending=False).reset_index()\n",
    "df_all_corr.rename(columns={\"level_0\": \"Feature 1\", \"level_1\": \"Feature 2\", 0: 'Correlation Coefficient'}, inplace=True)\n",
    "df_all_corr[df_all_corr['Feature 1'] == 'Loan Status']"
   ]
  },
  {
   "cell_type": "code",
   "execution_count": null,
   "id": "1e52680f",
   "metadata": {},
   "outputs": [],
   "source": [
    "#df.grade= df.grade.map(df.grade.value_counts(normalize=True))"
   ]
  },
  {
   "cell_type": "code",
   "execution_count": 7,
   "id": "6221543a",
   "metadata": {},
   "outputs": [],
   "source": [
    "df['no_of_people_in_batch']= df.groupby(['batch_enrolled'])['id'].transform('count')\n",
    "df['no_of_people_varified']= df.groupby(['verification_status'])['id'].transform('count')\n",
    "df['no_of_open_accounts_by_users']= df.groupby(['open_account'])['id'].transform('count')"
   ]
  },
  {
   "cell_type": "code",
   "execution_count": 8,
   "id": "4c51ead7",
   "metadata": {},
   "outputs": [],
   "source": [
    "df['actual_fund']= df.funded_amount_investor - df.funded_amount\n",
    "df['term_yearly']= df.term/12\n",
    "df['loan_in_hand']= df.loan_amount - df.funded_amount\n",
    "df['interest_to_be_paid']= (df.funded_amount * df.interest_rate)/100\n",
    "df['interest_to_be_paid_monthly']= (df.funded_amount * df.interest_rate)/(100 * df.term)\n",
    "df['delinquency_in_days']= df.delinquency_two_years * 30\n",
    "df['inquires_in_two_years']= df.inquires_six_months * 4\n",
    "df['initial_list_status']= df.initial_list_status.map({'w': 0, 'f': 1})\n",
    "df['received']= df.total_interest_received + df.total_late_fee_received\n",
    "df['revolving_amount_remain_on_card']= df.total_revolving_credit_limit - df.revolving_balance\n",
    "df.application_type= df.application_type.map({'INDIVIDUAL':0, 'JOINT':1})"
   ]
  },
  {
   "cell_type": "code",
   "execution_count": null,
   "id": "48f63884",
   "metadata": {},
   "outputs": [],
   "source": []
  },
  {
   "cell_type": "code",
   "execution_count": 9,
   "id": "684fb326",
   "metadata": {},
   "outputs": [],
   "source": [
    "df['graded_houses']= df.groupby(['grade'])['id'].transform('count')\n",
    "df['sub_graded_houses']= df.groupby(['sub_grade'])['id'].transform('count')\n",
    "df['good_graded_houses']= df.groupby(['grade','sub_grade'])['id'].transform('count')"
   ]
  },
  {
   "cell_type": "code",
   "execution_count": 10,
   "id": "3e451b53",
   "metadata": {},
   "outputs": [],
   "source": [
    "df.grade= df.grade.map({'A':0,'B':1, 'C':2, 'D':3, 'E':4, 'F':5, 'G':6})\n",
    "df.sub_grade= df.sub_grade.map({'A1':0,'A2':1, 'A3':2, 'A4':3, 'A5':4,\n",
    "                                'B1':5,'B2':6, 'B3':7, 'B4':8, 'B5':9,\n",
    "                                'C1':10,'C2':11, 'C3':12, 'C4':13, 'C5':14,\n",
    "                                'D1':15,'D2':16, 'D3':17, 'D4':18, 'D5':19,\n",
    "                                'E1':20,'E2':21, 'E3':22, 'E4':23, 'E5':24,\n",
    "                                'F1':25,'F2':26, 'F3':27, 'F4':28, 'F5':29,\n",
    "                                'G1':30,'G2':31, 'G3':32, 'G4':33, 'G5':34})"
   ]
  },
  {
   "cell_type": "code",
   "execution_count": 11,
   "id": "4e3e3730",
   "metadata": {},
   "outputs": [],
   "source": [
    "df.batch_enrolled= df.batch_enrolled.map(df.batch_enrolled.value_counts(normalize=True))"
   ]
  },
  {
   "cell_type": "code",
   "execution_count": 12,
   "id": "b8005ebd",
   "metadata": {},
   "outputs": [],
   "source": [
    "df['term_yearly']= np.round(df.term/12)"
   ]
  },
  {
   "cell_type": "code",
   "execution_count": 13,
   "id": "c3826329",
   "metadata": {},
   "outputs": [],
   "source": [
    "df['pay_monthly']= df.loan_amount * df.interest_rate/df.term\n",
    "df['pay_yearly']= df.loan_amount * df.interest_rate/df.term_yearly"
   ]
  },
  {
   "cell_type": "code",
   "execution_count": 14,
   "id": "b4c6ed92",
   "metadata": {},
   "outputs": [],
   "source": [
    "df['pay_monthly_if_funded']= df.funded_amount_investor * df.interest_rate/df.term\n",
    "df['pay_yearly_if_funded']= df.funded_amount_investor * df.interest_rate/df.term_yearly"
   ]
  },
  {
   "cell_type": "code",
   "execution_count": 15,
   "id": "e0aa2683",
   "metadata": {},
   "outputs": [],
   "source": [
    "df.term= df.term.map(df.term.value_counts(normalize=True))"
   ]
  },
  {
   "cell_type": "code",
   "execution_count": null,
   "id": "00e0d5d4",
   "metadata": {},
   "outputs": [],
   "source": []
  },
  {
   "cell_type": "code",
   "execution_count": 16,
   "id": "f379dad4",
   "metadata": {},
   "outputs": [],
   "source": [
    "df['emp_by_home_std']= df.groupby(['emp_duration'])['home_owener'].transform('std')\n",
    "df['emp_by_home_mean']= df.groupby(['emp_duration'])['home_owener'].transform('mean')\n",
    "df['emp_by_home_med']= df.groupby(['emp_duration'])['home_owener'].transform('median')"
   ]
  },
  {
   "cell_type": "code",
   "execution_count": 17,
   "id": "4372f5b5",
   "metadata": {},
   "outputs": [],
   "source": [
    "df.emp_duration= df.emp_duration.map(df.emp_duration.value_counts(normalize=True))"
   ]
  },
  {
   "cell_type": "code",
   "execution_count": 18,
   "id": "5e3c553c",
   "metadata": {},
   "outputs": [],
   "source": [
    "df.verification_status= df.verification_status.map(df.verification_status.value_counts(normalize=True))"
   ]
  },
  {
   "cell_type": "code",
   "execution_count": 19,
   "id": "044928db",
   "metadata": {},
   "outputs": [],
   "source": [
    "#df.loan_title= df.loan_amount.map(df.loan_title.value_counts(normalize=True))"
   ]
  },
  {
   "cell_type": "code",
   "execution_count": 20,
   "id": "30d16d5a",
   "metadata": {},
   "outputs": [],
   "source": [
    "df.initial_list_status= df.initial_list_status.map(df.initial_list_status.value_counts(normalize=True))"
   ]
  },
  {
   "cell_type": "code",
   "execution_count": 21,
   "id": "8b16600b",
   "metadata": {},
   "outputs": [],
   "source": [
    "df.application_type= df.application_type.map(df.application_type.value_counts(normalize=True))"
   ]
  },
  {
   "cell_type": "code",
   "execution_count": null,
   "id": "90938db7",
   "metadata": {
    "scrolled": true
   },
   "outputs": [],
   "source": [
    "df.head()"
   ]
  },
  {
   "cell_type": "code",
   "execution_count": null,
   "id": "49d915c6",
   "metadata": {},
   "outputs": [],
   "source": [
    "df.total_interest_received.min()"
   ]
  },
  {
   "cell_type": "code",
   "execution_count": null,
   "id": "efc0ac8f",
   "metadata": {},
   "outputs": [],
   "source": [
    "df.revolving_uitilities.min()"
   ]
  },
  {
   "cell_type": "code",
   "execution_count": 22,
   "id": "cef4402c",
   "metadata": {},
   "outputs": [],
   "source": [
    "train= df[:67463]\n",
    "test= df[67463:]"
   ]
  },
  {
   "cell_type": "code",
   "execution_count": null,
   "id": "c9a8b8f0",
   "metadata": {},
   "outputs": [],
   "source": [
    "[var for var in train.columns if train[var].dtypes != 'O']"
   ]
  },
  {
   "cell_type": "code",
   "execution_count": 23,
   "id": "1a22bab3",
   "metadata": {},
   "outputs": [],
   "source": [
    "cont_cols= ['id',\n",
    " 'loan_amount',\n",
    " 'funded_amount',\n",
    " 'funded_amount_investor',\n",
    " 'term',\n",
    " 'batch_enrolled',\n",
    " 'interest_rate',\n",
    " 'grade',\n",
    " 'sub_grade',\n",
    " 'emp_duration',\n",
    " 'home_owener',\n",
    " 'verification_status',\n",
    " 'debit_to_income',\n",
    " 'delinquency_two_years',\n",
    " 'inquires_six_months',\n",
    " 'open_account',\n",
    " 'public_record',\n",
    " 'revolving_balance',\n",
    " 'revolving_uitilities',\n",
    " 'total_accounts',\n",
    " 'initial_list_status',\n",
    " 'total_interest_received',\n",
    " 'total_late_fee_received',\n",
    " 'recoveries',\n",
    " 'collection_recovery_fee',\n",
    " 'collection_12_months_medical',\n",
    " 'application_type',\n",
    " 'last_week_pay',\n",
    " 'total_amount_collected',\n",
    " 'total_current_balance',\n",
    " 'total_revolving_credit_limit',\n",
    " 'actual_fund',\n",
    " 'term_yearly',\n",
    " 'loan_in_hand',\n",
    " 'interest_to_be_paid',\n",
    " 'interest_to_be_paid_monthly',\n",
    " 'delinquency_in_days',\n",
    " 'inquires_in_two_years',\n",
    " 'received',\n",
    " 'revolving_amount_remain_on_card',\n",
    " 'graded_houses',\n",
    " 'sub_graded_houses',\n",
    " 'good_graded_houses',\n",
    " 'pay_monthly',\n",
    " 'pay_yearly',\n",
    " 'pay_monthly_if_funded',\n",
    " 'pay_yearly_if_funded',\n",
    " 'emp_by_home_std',\n",
    " 'emp_by_home_mean',\n",
    " 'emp_by_home_med']"
   ]
  },
  {
   "cell_type": "code",
   "execution_count": 61,
   "id": "ab928cb5",
   "metadata": {},
   "outputs": [],
   "source": [
    "X_train= train[cont_cols]\n",
    "y_train= train['Loan Status']\n",
    "X_test= test[cont_cols]"
   ]
  },
  {
   "cell_type": "code",
   "execution_count": null,
   "id": "cc642a81",
   "metadata": {},
   "outputs": [],
   "source": [
    "xgb_search_params= {\n",
    "        'max_depth': scope.int(hp.quniform('max_depth', 3, 24, 1)),\n",
    "        'learning_rate': hp.uniform('learning_rate', 1e-7, 0.1),\n",
    "        'gamma': hp.uniform('gamma', 1, 10),\n",
    "        'min_child_weight': scope.int(hp.quniform('min_child_weight', 2, 700, 1)),\n",
    "        #'n_estimators': 500,\n",
    "        'colsample_bytree': hp.uniform('colsample_bytree', 0.5, 0.9),\n",
    "        'subsample': hp.uniform('subsample', 0.001, 1.0),\n",
    "        'reg_lambda': hp.uniform('reg_lambda', 0, 100),\n",
    "        'reg_alpha': hp.uniform('reg_alpha', 1e-5, 0.5),\n",
    "        #'tree_method': 'exact'\n",
    "}\n",
    "\n",
    "def xgb_search(params):\n",
    "    X_tr, X_tst, y_tr, y_tst= train_test_split(X_train, y_train, test_size=0.25, random_state=42, stratify= y_train)\n",
    "\n",
    "    model = XGBClassifier(**params, random_state=10, objective='binary:logistic',eval_metric='logloss', n_estimators= 100)\n",
    "    \n",
    "    evaluation = [(X_tst, y_tst)]\n",
    "\n",
    "    model.fit(X_tr, y_tr,\n",
    "              eval_set=evaluation,\n",
    "              early_stopping_rounds=30, verbose=False)\n",
    "\n",
    "    val_preds = model.predict_proba(X_tst)[:,-1]\n",
    "\n",
    "    score = log_loss(y_tst, val_preds)\n",
    "    neg_auc_score = score\n",
    "\n",
    "    return {\"loss\": neg_auc_score, \"status\": STATUS_OK}"
   ]
  },
  {
   "cell_type": "code",
   "execution_count": null,
   "id": "64c0e301",
   "metadata": {},
   "outputs": [],
   "source": [
    "# search for model\n",
    "trials = Trials()\n",
    "\n",
    "best_hyperparams_xgb = fmin(fn=xgb_search,\n",
    "                       space=xgb_search_params,\n",
    "                       algo=tpe.suggest,\n",
    "                       max_evals=500,\n",
    "                       trials=trials)"
   ]
  },
  {
   "cell_type": "code",
   "execution_count": null,
   "id": "7aefffca",
   "metadata": {},
   "outputs": [],
   "source": [
    "best_hyperparams_xgb"
   ]
  },
  {
   "cell_type": "code",
   "execution_count": null,
   "id": "14397ef4",
   "metadata": {},
   "outputs": [],
   "source": [
    "xgb_param= {'booster': 'dart',\n",
    " 'lambda': 1.7800060362493527e-08,\n",
    " 'alpha': 2.315582418892958e-07,\n",
    " 'max_depth': 2,\n",
    " 'eta': 0.0808503042845254,\n",
    " 'gamma': 0.2202760015065291,\n",
    " 'grow_policy': 'depthwise',\n",
    " 'sample_type': 'uniform',\n",
    " 'normalize_type': 'forest',\n",
    " 'rate_drop': 5.627374583340628e-07,\n",
    " 'skip_drop': 1.5691739428897544e-06}\n",
    "\n",
    "lgbm_param= {'reg_lambda': 0.05990285576078542,\n",
    " 'reg_alpha': 0.002761887597431145,\n",
    " 'colsample_bytree': 0.8,\n",
    " 'subsample': 0.4,\n",
    " 'learning_rate': 0.03959160086546493,\n",
    " 'max_depth': 4,\n",
    " 'min_child_samples': 54,\n",
    " 'num_leaves': 58}"
   ]
  },
  {
   "cell_type": "code",
   "execution_count": null,
   "id": "97bc8226",
   "metadata": {
    "scrolled": true
   },
   "outputs": [],
   "source": [
    "subbed = []\n",
    "r2= []\n",
    "n_folds=10\n",
    "preds = np.zeros(len(X_test.index),)\n",
    "f= StratifiedKFold(n_splits=10, shuffle=True, random_state=10)\n",
    "for fold, (train_idx, test_idx) in enumerate(f.split(X_train, y_train)):\n",
    "    print('=============== Fold No:',fold+1,'===============')\n",
    "    X_tr, X_tst = X_train.iloc[train_idx], X_train.iloc[test_idx]\n",
    "    y_tr, y_tst = y_train.iloc[train_idx], y_train.iloc[test_idx]\n",
    "    \n",
    "    model= LGBMClassifier(metric='binary_logloss', n_estimators=5000, random_state= 10, **lgbm_param)\n",
    "    model.fit(X_tr, y_tr, eval_set=[(X_tst, y_tst)], early_stopping_rounds=500, verbose=500)\n",
    "    print(log_loss(y_tst, model.predict_proba(X_tst)[:,1]))\n",
    "    subbed.append(log_loss(y_tst, model.predict_proba(X_tst)[:,1]))\n",
    "    test_oof_preds = model.predict_proba(X_test)[:,1]\n",
    "    preds += test_oof_preds / n_folds\n",
    "    \n",
    "print('RMSE train: ',(np.mean(subbed)))"
   ]
  },
  {
   "cell_type": "code",
   "execution_count": null,
   "id": "8b3aec1d",
   "metadata": {},
   "outputs": [],
   "source": [
    "# function for creating a feature importance dataframe\n",
    "def imp_df(column_names, importances):\n",
    "    df = pd.DataFrame({'feature': column_names,\n",
    "                       'feature_importance': importances}) \\\n",
    "           .sort_values('feature_importance', ascending = False) \\\n",
    "           .reset_index(drop = True)\n",
    "    return df\n",
    "\n",
    "# plotting a feature importance dataframe (horizontal barchart)\n",
    "def var_imp_plot(imp_df):\n",
    "    plt.figure(figsize=(15,10))\n",
    "    imp_df.columns = ['feature', 'feature_importance']\n",
    "    sns.barplot(x = 'feature_importance', y = 'feature', data = imp_df, orient = 'h', color = 'royalblue')"
   ]
  },
  {
   "cell_type": "code",
   "execution_count": null,
   "id": "b8972a83",
   "metadata": {},
   "outputs": [],
   "source": [
    "from rfpimp import permutation_importances\n",
    "\n",
    "def r2(rf, X_train, y_train):\n",
    "    return log_loss(y_train, model.predict_proba(X_train)[:,-1])\n",
    "\n",
    "perm_imp_rfpimp = permutation_importances(model, X_train, y_train, r2)\n",
    "perm_imp_rfpimp.reset_index(drop = False, inplace = True)\n"
   ]
  },
  {
   "cell_type": "code",
   "execution_count": null,
   "id": "3f231e68",
   "metadata": {},
   "outputs": [],
   "source": [
    "var_imp_plot(perm_imp_rfpimp)"
   ]
  },
  {
   "cell_type": "code",
   "execution_count": 65,
   "id": "d7141ac8",
   "metadata": {},
   "outputs": [],
   "source": [
    "sub= pd.DataFrame()\n",
    "sub['Loan Status']= preds\n",
    "sub.to_csv('my_submission14.csv', index=False)"
   ]
  },
  {
   "cell_type": "code",
   "execution_count": null,
   "id": "0772ec0f",
   "metadata": {},
   "outputs": [],
   "source": []
  },
  {
   "cell_type": "code",
   "execution_count": null,
   "id": "9ea5b8d6",
   "metadata": {},
   "outputs": [],
   "source": [
    "import xgboost as xgb\n",
    "def objective_xgb(trial, data = X_train, target = y_train):\n",
    "    train_x, valid_x, train_y, valid_y = train_test_split(data, target, test_size=0.25, stratify=y_train)\n",
    "    dtrain = xgb.DMatrix(train_x, label=train_y)\n",
    "    dvalid = xgb.DMatrix(valid_x, label=valid_y)\n",
    "\n",
    "    param = {\n",
    "        \"verbosity\": 0,\n",
    "        #\"objective\": \"binary:logistic\",\n",
    "        #'n_estimators': trial.suggest_int(\"n_estimators\", 50, 5000),\n",
    "        \"booster\": trial.suggest_categorical(\"booster\", [\"gbtree\", \"dart\"]),\n",
    "        \"lambda\": trial.suggest_float(\"lambda\", 1e-8, 1.0, log=True),\n",
    "        \"alpha\": trial.suggest_float(\"alpha\", 1e-8, 1.0, log=True)}\n",
    "\n",
    "    if param[\"booster\"] == \"gbtree\" or param[\"booster\"] == \"dart\":\n",
    "        param[\"max_depth\"] = trial.suggest_int(\"max_depth\", 1, 9)\n",
    "        param[\"eta\"] = trial.suggest_float(\"eta\", 1e-8, 1.0, log=True)\n",
    "        param[\"gamma\"] = trial.suggest_float(\"gamma\", 1e-8, 1.0, log=True)\n",
    "        param[\"grow_policy\"] = trial.suggest_categorical(\"grow_policy\", [\"depthwise\", \"lossguide\"])\n",
    "    if param[\"booster\"] == \"dart\":\n",
    "        param[\"sample_type\"] = trial.suggest_categorical(\"sample_type\", [\"uniform\", \"weighted\"])\n",
    "        param[\"normalize_type\"] = trial.suggest_categorical(\"normalize_type\", [\"tree\", \"forest\"])\n",
    "        param[\"rate_drop\"] = trial.suggest_float(\"rate_drop\", 1e-8, 1.0, log=True)\n",
    "        param[\"skip_drop\"] = trial.suggest_float(\"skip_drop\", 1e-8, 1.0, log=True)\n",
    "\n",
    "    gbm = XGBClassifier(**param,n_estimators= 100,objective='binary:logistic',eval_metric='logloss')\n",
    "\n",
    "    gbm.fit(train_x, train_y, eval_set=[(valid_x, valid_y)], early_stopping_rounds=100, verbose = 100)\n",
    "\n",
    "    preds = gbm.predict_proba(valid_x)[:,1]\n",
    "\n",
    "    roc = log_loss(valid_y, preds)\n",
    "    return roc"
   ]
  },
  {
   "cell_type": "code",
   "execution_count": null,
   "id": "1a89db7b",
   "metadata": {
    "scrolled": true
   },
   "outputs": [],
   "source": [
    "study_xgb = optuna.create_study(direction=\"minimize\")\n",
    "study_xgb.optimize(objective_xgb, n_trials=100)\n",
    "print(\"Number of finished trials: {}\".format(len(study_xgb.trials)))\n",
    "print(\"Best trial:\", study_xgb.best_trial.params)"
   ]
  },
  {
   "cell_type": "code",
   "execution_count": null,
   "id": "724a5486",
   "metadata": {},
   "outputs": [],
   "source": [
    "study_xgb.best_params"
   ]
  },
  {
   "cell_type": "code",
   "execution_count": null,
   "id": "50ba9dd6",
   "metadata": {},
   "outputs": [],
   "source": []
  },
  {
   "cell_type": "code",
   "execution_count": 52,
   "id": "8f8c2933",
   "metadata": {},
   "outputs": [],
   "source": [
    "def objective_log(trial, data = X_train, target = y_train):\n",
    "    train_x, test_x, train_y, test_y = train_test_split(data, target, test_size=0.15,random_state=10, stratify=target)\n",
    "    sc= RobustScaler()\n",
    "    sc.fit(train_x)\n",
    "    train_x= sc.transform(train_x)\n",
    "    test_x= sc.transform(test_x)\n",
    "    \n",
    "    param = {\n",
    "        \"tol\": trial.suggest_float('tol', 1e-7, 1.0, log= True),\n",
    "        'Cs': trial.suggest_int('Cs', 1.0,15.0),\n",
    "        'max_iter': trial.suggest_int('max_iter', 100,5000),\n",
    "        'penalty': trial.suggest_categorical('penalty', ['l2'])\n",
    "        #'warm_start': trial.suggest_categorical('warm_start', [True, False]),\n",
    "        \n",
    "        #\"objective\": \"binary:logistic\",\n",
    "        #'n_estimators': trial.suggest_int(\"n_estimators\", 50, 5000),\n",
    "        #\"solver\": trial.suggest_categorical(\"solver\", ['liblinear', 'saga'])\n",
    "    }\n",
    "\n",
    "    #if param[\"solver\"] == \"saga\":\n",
    "    #    param[\"penalty\"] = trial.suggest_categorical(\"penalty\", ['l2'])\n",
    "    #if param[\"solver\"] == \"newton-cg\":\n",
    "    #    param[\"penalty\"] = trial.suggest_categorical(\"penalty\", ['l2'])\n",
    "    #if param[\"solver\"] == \"lbfgs\":\n",
    "    #    param[\"penalty\"] = trial.suggest_categorical(\"penalty\", ['l2'])\n",
    "    #if param[\"solver\"] == \"sag\":\n",
    "    #    param[\"penalty\"] = trial.suggest_categorical(\"penalty\", ['l2'])\n",
    "    #if param['solver'] == 'liblinear':\n",
    "    #    param['penalty'] = trial.suggest_categorical('penalty', ['l2'])\n",
    "\n",
    "    gbm = LogisticRegressionCV(**param,random_state=10, scoring='neg_log_loss')\n",
    "\n",
    "    gbm.fit(train_x, train_y)\n",
    "\n",
    "    preds = gbm.predict_proba(test_x)[:,1]\n",
    "\n",
    "    roc = log_loss(test_y, preds)\n",
    "    return roc"
   ]
  },
  {
   "cell_type": "code",
   "execution_count": 53,
   "id": "063bb45e",
   "metadata": {
    "scrolled": true
   },
   "outputs": [
    {
     "name": "stderr",
     "output_type": "stream",
     "text": [
      "\u001b[32m[I 2021-12-07 12:46:42,861]\u001b[0m A new study created in memory with name: no-name-4253ff81-6486-4d7a-ad63-dd76fb86e78e\u001b[0m\n",
      "\u001b[32m[I 2021-12-07 12:47:08,702]\u001b[0m Trial 0 finished with value: 0.3075670371158694 and parameters: {'tol': 2.3663413794121485e-07, 'Cs': 13, 'max_iter': 2849, 'penalty': 'l2'}. Best is trial 0 with value: 0.3075670371158694.\u001b[0m\n",
      "\u001b[32m[I 2021-12-07 12:47:36,540]\u001b[0m Trial 1 finished with value: 0.30758547668034103 and parameters: {'tol': 5.146336855655604e-07, 'Cs': 11, 'max_iter': 4944, 'penalty': 'l2'}. Best is trial 0 with value: 0.3075670371158694.\u001b[0m\n",
      "\u001b[32m[I 2021-12-07 12:48:04,048]\u001b[0m Trial 2 finished with value: 0.30770870706131814 and parameters: {'tol': 1.6006692674135188e-05, 'Cs': 3, 'max_iter': 3469, 'penalty': 'l2'}. Best is trial 0 with value: 0.3075670371158694.\u001b[0m\n",
      "\u001b[32m[I 2021-12-07 12:48:30,987]\u001b[0m Trial 3 finished with value: 0.3075825768163608 and parameters: {'tol': 7.477784244700018e-07, 'Cs': 6, 'max_iter': 3896, 'penalty': 'l2'}. Best is trial 0 with value: 0.3075670371158694.\u001b[0m\n",
      "\u001b[32m[I 2021-12-07 12:48:57,468]\u001b[0m Trial 4 finished with value: 0.3075825768163608 and parameters: {'tol': 0.14605751118569374, 'Cs': 6, 'max_iter': 719, 'penalty': 'l2'}. Best is trial 0 with value: 0.3075670371158694.\u001b[0m\n",
      "\u001b[32m[I 2021-12-07 12:49:23,005]\u001b[0m Trial 5 finished with value: 0.30770870706131814 and parameters: {'tol': 0.00010142963958412345, 'Cs': 3, 'max_iter': 2791, 'penalty': 'l2'}. Best is trial 0 with value: 0.3075670371158694.\u001b[0m\n",
      "\u001b[32m[I 2021-12-07 12:49:52,351]\u001b[0m Trial 6 finished with value: 0.3075637666790341 and parameters: {'tol': 0.010249669526022036, 'Cs': 8, 'max_iter': 545, 'penalty': 'l2'}. Best is trial 6 with value: 0.3075637666790341.\u001b[0m\n",
      "\u001b[32m[I 2021-12-07 12:50:21,544]\u001b[0m Trial 7 finished with value: 0.3075637666790341 and parameters: {'tol': 0.001272973085876483, 'Cs': 8, 'max_iter': 3983, 'penalty': 'l2'}. Best is trial 6 with value: 0.3075637666790341.\u001b[0m\n",
      "\u001b[32m[I 2021-12-07 12:50:55,446]\u001b[0m Trial 8 finished with value: 0.3075632486769288 and parameters: {'tol': 2.3950076065479795e-05, 'Cs': 14, 'max_iter': 4195, 'penalty': 'l2'}. Best is trial 8 with value: 0.3075632486769288.\u001b[0m\n",
      "\u001b[32m[I 2021-12-07 12:51:19,112]\u001b[0m Trial 9 finished with value: 0.3075825768163608 and parameters: {'tol': 0.012938148755319005, 'Cs': 6, 'max_iter': 3198, 'penalty': 'l2'}. Best is trial 8 with value: 0.3075632486769288.\u001b[0m\n",
      "\u001b[32m[I 2021-12-07 12:51:51,736]\u001b[0m Trial 10 finished with value: 0.3075632486769288 and parameters: {'tol': 1.0136363855278595e-05, 'Cs': 14, 'max_iter': 1710, 'penalty': 'l2'}. Best is trial 8 with value: 0.3075632486769288.\u001b[0m\n",
      "\u001b[32m[I 2021-12-07 12:52:20,193]\u001b[0m Trial 11 finished with value: 0.30759454393720465 and parameters: {'tol': 1.669456542196723e-05, 'Cs': 15, 'max_iter': 1567, 'penalty': 'l2'}. Best is trial 8 with value: 0.3075632486769288.\u001b[0m\n",
      "\u001b[32m[I 2021-12-07 12:52:49,500]\u001b[0m Trial 12 finished with value: 0.30756834821155765 and parameters: {'tol': 1.564408807143711e-05, 'Cs': 12, 'max_iter': 1710, 'penalty': 'l2'}. Best is trial 8 with value: 0.3075632486769288.\u001b[0m\n",
      "\u001b[32m[I 2021-12-07 12:53:20,159]\u001b[0m Trial 13 finished with value: 0.30759454393720465 and parameters: {'tol': 0.0002674673980773338, 'Cs': 15, 'max_iter': 1851, 'penalty': 'l2'}. Best is trial 8 with value: 0.3075632486769288.\u001b[0m\n",
      "\u001b[32m[I 2021-12-07 12:53:49,442]\u001b[0m Trial 14 finished with value: 0.30760374904821103 and parameters: {'tol': 3.2629298717638206e-06, 'Cs': 10, 'max_iter': 4810, 'penalty': 'l2'}. Best is trial 8 with value: 0.3075632486769288.\u001b[0m\n",
      "\u001b[32m[I 2021-12-07 12:54:18,302]\u001b[0m Trial 15 finished with value: 0.3075670371158694 and parameters: {'tol': 7.887274575944407e-05, 'Cs': 13, 'max_iter': 2067, 'penalty': 'l2'}. Best is trial 8 with value: 0.3075632486769288.\u001b[0m\n",
      "\u001b[32m[I 2021-12-07 12:54:52,698]\u001b[0m Trial 16 finished with value: 0.30759454393720465 and parameters: {'tol': 0.0019326011442717173, 'Cs': 15, 'max_iter': 1002, 'penalty': 'l2'}. Best is trial 8 with value: 0.3075632486769288.\u001b[0m\n",
      "\u001b[32m[I 2021-12-07 12:55:23,737]\u001b[0m Trial 17 finished with value: 0.30760374904821103 and parameters: {'tol': 2.366848409303389e-06, 'Cs': 10, 'max_iter': 2324, 'penalty': 'l2'}. Best is trial 8 with value: 0.3075632486769288.\u001b[0m\n",
      "\u001b[32m[I 2021-12-07 12:55:56,362]\u001b[0m Trial 18 finished with value: 0.3075670371158694 and parameters: {'tol': 0.6583173339816004, 'Cs': 13, 'max_iter': 1214, 'penalty': 'l2'}. Best is trial 8 with value: 0.3075632486769288.\u001b[0m\n",
      "\u001b[32m[I 2021-12-07 12:56:02,688]\u001b[0m Trial 19 finished with value: 0.3078027189425928 and parameters: {'tol': 2.757337107681178e-06, 'Cs': 1, 'max_iter': 4190, 'penalty': 'l2'}. Best is trial 8 with value: 0.3075632486769288.\u001b[0m\n",
      "\u001b[32m[I 2021-12-07 12:56:21,273]\u001b[0m Trial 20 finished with value: 0.3075967726356971 and parameters: {'tol': 4.16921549408222e-05, 'Cs': 10, 'max_iter': 115, 'penalty': 'l2'}. Best is trial 8 with value: 0.3075632486769288.\u001b[0m\n",
      "\u001b[32m[I 2021-12-07 12:56:47,553]\u001b[0m Trial 21 finished with value: 0.30756825425505585 and parameters: {'tol': 0.0010321796721489043, 'Cs': 7, 'max_iter': 3877, 'penalty': 'l2'}. Best is trial 8 with value: 0.3075632486769288.\u001b[0m\n",
      "\u001b[32m[I 2021-12-07 12:57:18,276]\u001b[0m Trial 22 finished with value: 0.3075637666790341 and parameters: {'tol': 0.001177337039040117, 'Cs': 8, 'max_iter': 4568, 'penalty': 'l2'}. Best is trial 8 with value: 0.3075632486769288.\u001b[0m\n",
      "\u001b[32m[I 2021-12-07 12:57:51,320]\u001b[0m Trial 23 finished with value: 0.3076379776163745 and parameters: {'tol': 0.0002977376693329175, 'Cs': 9, 'max_iter': 4571, 'penalty': 'l2'}. Best is trial 8 with value: 0.3075632486769288.\u001b[0m\n",
      "\u001b[32m[I 2021-12-07 12:58:27,246]\u001b[0m Trial 24 finished with value: 0.3075632486769288 and parameters: {'tol': 0.018884836899707935, 'Cs': 14, 'max_iter': 404, 'penalty': 'l2'}. Best is trial 8 with value: 0.3075632486769288.\u001b[0m\n",
      "\u001b[32m[I 2021-12-07 12:59:01,233]\u001b[0m Trial 25 finished with value: 0.3075632486769288 and parameters: {'tol': 0.02302780602292611, 'Cs': 14, 'max_iter': 1277, 'penalty': 'l2'}. Best is trial 8 with value: 0.3075632486769288.\u001b[0m\n",
      "\u001b[32m[I 2021-12-07 12:59:23,157]\u001b[0m Trial 26 finished with value: 0.3075736030101356 and parameters: {'tol': 0.052328140113760295, 'Cs': 12, 'max_iter': 122, 'penalty': 'l2'}. Best is trial 8 with value: 0.3075632486769288.\u001b[0m\n",
      "\u001b[32m[I 2021-12-07 12:59:51,362]\u001b[0m Trial 27 finished with value: 0.30756834821155765 and parameters: {'tol': 0.028958446996663324, 'Cs': 12, 'max_iter': 1264, 'penalty': 'l2'}. Best is trial 8 with value: 0.3075632486769288.\u001b[0m\n",
      "\u001b[32m[I 2021-12-07 13:00:24,478]\u001b[0m Trial 28 finished with value: 0.3075632486769288 and parameters: {'tol': 0.2254018806303367, 'Cs': 14, 'max_iter': 535, 'penalty': 'l2'}. Best is trial 8 with value: 0.3075632486769288.\u001b[0m\n",
      "\u001b[32m[I 2021-12-07 13:00:55,750]\u001b[0m Trial 29 finished with value: 0.3075632486769288 and parameters: {'tol': 0.4565428048592011, 'Cs': 14, 'max_iter': 541, 'penalty': 'l2'}. Best is trial 8 with value: 0.3075632486769288.\u001b[0m\n",
      "\u001b[32m[I 2021-12-07 13:01:23,612]\u001b[0m Trial 30 finished with value: 0.30758547668034103 and parameters: {'tol': 0.7002442791992876, 'Cs': 11, 'max_iter': 969, 'penalty': 'l2'}. Best is trial 8 with value: 0.3075632486769288.\u001b[0m\n",
      "\u001b[32m[I 2021-12-07 13:01:57,187]\u001b[0m Trial 31 finished with value: 0.3075632486769288 and parameters: {'tol': 0.15641912841779118, 'Cs': 14, 'max_iter': 454, 'penalty': 'l2'}. Best is trial 8 with value: 0.3075632486769288.\u001b[0m\n",
      "\u001b[32m[I 2021-12-07 13:02:36,712]\u001b[0m Trial 32 finished with value: 0.3075632486769288 and parameters: {'tol': 0.17738904138447256, 'Cs': 14, 'max_iter': 702, 'penalty': 'l2'}. Best is trial 8 with value: 0.3075632486769288.\u001b[0m\n",
      "\u001b[32m[I 2021-12-07 13:03:07,308]\u001b[0m Trial 33 finished with value: 0.3075670371158694 and parameters: {'tol': 0.20047556046937343, 'Cs': 13, 'max_iter': 778, 'penalty': 'l2'}. Best is trial 8 with value: 0.3075632486769288.\u001b[0m\n",
      "\u001b[32m[I 2021-12-07 13:03:41,059]\u001b[0m Trial 34 finished with value: 0.30759454393720465 and parameters: {'tol': 0.06708975083563877, 'Cs': 15, 'max_iter': 364, 'penalty': 'l2'}. Best is trial 8 with value: 0.3075632486769288.\u001b[0m\n",
      "\u001b[32m[I 2021-12-07 13:04:12,889]\u001b[0m Trial 35 finished with value: 0.3075670371158694 and parameters: {'tol': 0.004048970727488253, 'Cs': 13, 'max_iter': 1347, 'penalty': 'l2'}. Best is trial 8 with value: 0.3075632486769288.\u001b[0m\n"
     ]
    },
    {
     "name": "stderr",
     "output_type": "stream",
     "text": [
      "\u001b[32m[I 2021-12-07 13:04:38,415]\u001b[0m Trial 36 finished with value: 0.30756834821155765 and parameters: {'tol': 0.2544699252544379, 'Cs': 12, 'max_iter': 684, 'penalty': 'l2'}. Best is trial 8 with value: 0.3075632486769288.\u001b[0m\n",
      "\u001b[32m[I 2021-12-07 13:05:16,658]\u001b[0m Trial 37 finished with value: 0.30758547668034103 and parameters: {'tol': 0.974360005521117, 'Cs': 11, 'max_iter': 919, 'penalty': 'l2'}. Best is trial 8 with value: 0.3075632486769288.\u001b[0m\n",
      "\u001b[32m[I 2021-12-07 13:06:00,219]\u001b[0m Trial 38 finished with value: 0.3075632486769288 and parameters: {'tol': 0.10481168797609357, 'Cs': 14, 'max_iter': 3333, 'penalty': 'l2'}. Best is trial 8 with value: 0.3075632486769288.\u001b[0m\n",
      "\u001b[32m[I 2021-12-07 13:06:37,157]\u001b[0m Trial 39 finished with value: 0.3075670371158694 and parameters: {'tol': 0.125190343612174, 'Cs': 13, 'max_iter': 3207, 'penalty': 'l2'}. Best is trial 8 with value: 0.3075632486769288.\u001b[0m\n",
      "\u001b[32m[I 2021-12-07 13:07:08,603]\u001b[0m Trial 40 finished with value: 0.30770870706131814 and parameters: {'tol': 3.7942438194196274e-07, 'Cs': 3, 'max_iter': 2304, 'penalty': 'l2'}. Best is trial 8 with value: 0.3075632486769288.\u001b[0m\n",
      "\u001b[32m[I 2021-12-07 13:07:45,702]\u001b[0m Trial 41 finished with value: 0.3075632486769288 and parameters: {'tol': 0.35134304973497554, 'Cs': 14, 'max_iter': 2699, 'penalty': 'l2'}. Best is trial 8 with value: 0.3075632486769288.\u001b[0m\n",
      "\u001b[32m[I 2021-12-07 13:08:30,747]\u001b[0m Trial 42 finished with value: 0.30759454393720465 and parameters: {'tol': 0.015484911072851635, 'Cs': 15, 'max_iter': 2644, 'penalty': 'l2'}. Best is trial 8 with value: 0.3075632486769288.\u001b[0m\n",
      "\u001b[32m[I 2021-12-07 13:09:13,009]\u001b[0m Trial 43 finished with value: 0.3075632486769288 and parameters: {'tol': 1.1251258265474473e-07, 'Cs': 14, 'max_iter': 3594, 'penalty': 'l2'}. Best is trial 8 with value: 0.3075632486769288.\u001b[0m\n",
      "\u001b[32m[I 2021-12-07 13:09:44,463]\u001b[0m Trial 44 finished with value: 0.30756834821155765 and parameters: {'tol': 1.519710308175244e-07, 'Cs': 12, 'max_iter': 343, 'penalty': 'l2'}. Best is trial 8 with value: 0.3075632486769288.\u001b[0m\n",
      "\u001b[32m[I 2021-12-07 13:10:10,018]\u001b[0m Trial 45 finished with value: 0.30758547668034103 and parameters: {'tol': 0.005604009018884898, 'Cs': 11, 'max_iter': 3113, 'penalty': 'l2'}. Best is trial 8 with value: 0.3075632486769288.\u001b[0m\n",
      "\u001b[32m[I 2021-12-07 13:10:43,591]\u001b[0m Trial 46 finished with value: 0.30759454393720465 and parameters: {'tol': 1.1315920534924522e-06, 'Cs': 15, 'max_iter': 3490, 'penalty': 'l2'}. Best is trial 8 with value: 0.3075632486769288.\u001b[0m\n",
      "\u001b[32m[I 2021-12-07 13:11:13,725]\u001b[0m Trial 47 finished with value: 0.3075670371158694 and parameters: {'tol': 0.06062938110501513, 'Cs': 13, 'max_iter': 500, 'penalty': 'l2'}. Best is trial 8 with value: 0.3075632486769288.\u001b[0m\n",
      "\u001b[32m[I 2021-12-07 13:11:48,420]\u001b[0m Trial 48 finished with value: 0.3075632486769288 and parameters: {'tol': 1.0721571597312988e-07, 'Cs': 14, 'max_iter': 3602, 'penalty': 'l2'}. Best is trial 8 with value: 0.3075632486769288.\u001b[0m\n",
      "\u001b[32m[I 2021-12-07 13:12:16,042]\u001b[0m Trial 49 finished with value: 0.30762399468778806 and parameters: {'tol': 0.3845178256409231, 'Cs': 5, 'max_iter': 2896, 'penalty': 'l2'}. Best is trial 8 with value: 0.3075632486769288.\u001b[0m\n",
      "\u001b[32m[I 2021-12-07 13:12:48,309]\u001b[0m Trial 50 finished with value: 0.30759454393720465 and parameters: {'tol': 0.028502803959551862, 'Cs': 15, 'max_iter': 1473, 'penalty': 'l2'}. Best is trial 8 with value: 0.3075632486769288.\u001b[0m\n",
      "\u001b[32m[I 2021-12-07 13:13:20,111]\u001b[0m Trial 51 finished with value: 0.3075632486769288 and parameters: {'tol': 0.17660280122004038, 'Cs': 14, 'max_iter': 717, 'penalty': 'l2'}. Best is trial 8 with value: 0.3075632486769288.\u001b[0m\n",
      "\u001b[32m[I 2021-12-07 13:13:53,178]\u001b[0m Trial 52 finished with value: 0.3075632486769288 and parameters: {'tol': 4.78675783022453e-07, 'Cs': 14, 'max_iter': 3401, 'penalty': 'l2'}. Best is trial 8 with value: 0.3075632486769288.\u001b[0m\n",
      "\u001b[32m[I 2021-12-07 13:14:21,542]\u001b[0m Trial 53 finished with value: 0.3075670371158694 and parameters: {'tol': 0.41408418872640224, 'Cs': 13, 'max_iter': 1091, 'penalty': 'l2'}. Best is trial 8 with value: 0.3075632486769288.\u001b[0m\n",
      "\u001b[32m[I 2021-12-07 13:14:54,950]\u001b[0m Trial 54 finished with value: 0.30759454393720465 and parameters: {'tol': 1.125133357961033e-07, 'Cs': 15, 'max_iter': 1819, 'penalty': 'l2'}. Best is trial 8 with value: 0.3075632486769288.\u001b[0m\n",
      "\u001b[32m[I 2021-12-07 13:15:23,269]\u001b[0m Trial 55 finished with value: 0.30756834821155765 and parameters: {'tol': 0.08933958631111312, 'Cs': 12, 'max_iter': 2360, 'penalty': 'l2'}. Best is trial 8 with value: 0.3075632486769288.\u001b[0m\n",
      "\u001b[32m[I 2021-12-07 13:16:04,561]\u001b[0m Trial 56 finished with value: 0.3075632486769288 and parameters: {'tol': 8.369312065182654e-06, 'Cs': 14, 'max_iter': 3745, 'penalty': 'l2'}. Best is trial 8 with value: 0.3075632486769288.\u001b[0m\n",
      "\u001b[32m[I 2021-12-07 13:16:41,907]\u001b[0m Trial 57 finished with value: 0.3075670371158694 and parameters: {'tol': 2.844606260372719e-07, 'Cs': 13, 'max_iter': 3609, 'penalty': 'l2'}. Best is trial 8 with value: 0.3075632486769288.\u001b[0m\n",
      "\u001b[32m[I 2021-12-07 13:17:24,619]\u001b[0m Trial 58 finished with value: 0.3075632486769288 and parameters: {'tol': 0.02932514921975923, 'Cs': 14, 'max_iter': 576, 'penalty': 'l2'}. Best is trial 8 with value: 0.3075632486769288.\u001b[0m\n",
      "\u001b[32m[I 2021-12-07 13:18:10,583]\u001b[0m Trial 59 finished with value: 0.30759454393720465 and parameters: {'tol': 1.6131132100701747e-06, 'Cs': 15, 'max_iter': 3743, 'penalty': 'l2'}. Best is trial 8 with value: 0.3075632486769288.\u001b[0m\n",
      "\u001b[32m[I 2021-12-07 13:18:47,463]\u001b[0m Trial 60 finished with value: 0.3075818899538055 and parameters: {'tol': 0.12028144489590742, 'Cs': 11, 'max_iter': 248, 'penalty': 'l2'}. Best is trial 8 with value: 0.3075632486769288.\u001b[0m\n",
      "\u001b[32m[I 2021-12-07 13:19:29,288]\u001b[0m Trial 61 finished with value: 0.3075632486769288 and parameters: {'tol': 0.0005676228667437128, 'Cs': 14, 'max_iter': 3984, 'penalty': 'l2'}. Best is trial 8 with value: 0.3075632486769288.\u001b[0m\n",
      "\u001b[32m[I 2021-12-07 13:20:11,906]\u001b[0m Trial 62 finished with value: 0.3075632486769288 and parameters: {'tol': 0.3927062621294465, 'Cs': 14, 'max_iter': 4130, 'penalty': 'l2'}. Best is trial 8 with value: 0.3075632486769288.\u001b[0m\n",
      "\u001b[32m[I 2021-12-07 13:20:41,715]\u001b[0m Trial 63 finished with value: 0.3075670371158694 and parameters: {'tol': 6.065643647352754e-07, 'Cs': 13, 'max_iter': 2983, 'penalty': 'l2'}. Best is trial 8 with value: 0.3075632486769288.\u001b[0m\n",
      "\u001b[32m[I 2021-12-07 13:21:19,210]\u001b[0m Trial 64 finished with value: 0.30759454393720465 and parameters: {'tol': 0.40786433754827817, 'Cs': 15, 'max_iter': 4167, 'penalty': 'l2'}. Best is trial 8 with value: 0.3075632486769288.\u001b[0m\n",
      "\u001b[32m[I 2021-12-07 13:21:48,273]\u001b[0m Trial 65 finished with value: 0.30756834821155765 and parameters: {'tol': 0.009454757974829343, 'Cs': 12, 'max_iter': 2096, 'penalty': 'l2'}. Best is trial 8 with value: 0.3075632486769288.\u001b[0m\n",
      "\u001b[32m[I 2021-12-07 13:22:32,062]\u001b[0m Trial 66 finished with value: 0.3075632486769288 and parameters: {'tol': 0.0394666580154213, 'Cs': 14, 'max_iter': 3287, 'penalty': 'l2'}. Best is trial 8 with value: 0.3075632486769288.\u001b[0m\n",
      "\u001b[32m[I 2021-12-07 13:23:05,392]\u001b[0m Trial 67 finished with value: 0.3075670371158694 and parameters: {'tol': 0.019983295583868587, 'Cs': 13, 'max_iter': 2555, 'penalty': 'l2'}. Best is trial 8 with value: 0.3075632486769288.\u001b[0m\n",
      "\u001b[32m[I 2021-12-07 13:23:41,938]\u001b[0m Trial 68 finished with value: 0.30759454393720465 and parameters: {'tol': 0.037823350303181, 'Cs': 15, 'max_iter': 872, 'penalty': 'l2'}. Best is trial 8 with value: 0.3075632486769288.\u001b[0m\n",
      "\u001b[32m[I 2021-12-07 13:24:18,060]\u001b[0m Trial 69 finished with value: 0.3075632486769288 and parameters: {'tol': 3.85923645703959e-06, 'Cs': 14, 'max_iter': 3690, 'penalty': 'l2'}. Best is trial 8 with value: 0.3075632486769288.\u001b[0m\n",
      "\u001b[32m[I 2021-12-07 13:24:50,758]\u001b[0m Trial 70 finished with value: 0.30756834821155765 and parameters: {'tol': 0.000131611679048353, 'Cs': 12, 'max_iter': 2692, 'penalty': 'l2'}. Best is trial 8 with value: 0.3075632486769288.\u001b[0m\n",
      "\u001b[32m[I 2021-12-07 13:25:26,094]\u001b[0m Trial 71 finished with value: 0.3075632486769288 and parameters: {'tol': 0.24899149269191068, 'Cs': 14, 'max_iter': 673, 'penalty': 'l2'}. Best is trial 8 with value: 0.3075632486769288.\u001b[0m\n"
     ]
    },
    {
     "name": "stderr",
     "output_type": "stream",
     "text": [
      "\u001b[32m[I 2021-12-07 13:25:54,726]\u001b[0m Trial 72 finished with value: 0.3075670371158694 and parameters: {'tol': 0.2584905884179722, 'Cs': 13, 'max_iter': 1110, 'penalty': 'l2'}. Best is trial 8 with value: 0.3075632486769288.\u001b[0m\n",
      "\u001b[32m[I 2021-12-07 13:26:23,575]\u001b[0m Trial 73 finished with value: 0.3076379776163745 and parameters: {'tol': 0.7227952132865528, 'Cs': 9, 'max_iter': 608, 'penalty': 'l2'}. Best is trial 8 with value: 0.3075632486769288.\u001b[0m\n",
      "\u001b[32m[I 2021-12-07 13:26:50,557]\u001b[0m Trial 74 finished with value: 0.3075632486769288 and parameters: {'tol': 6.2427948100151214e-06, 'Cs': 14, 'max_iter': 218, 'penalty': 'l2'}. Best is trial 8 with value: 0.3075632486769288.\u001b[0m\n",
      "\u001b[32m[I 2021-12-07 13:27:16,993]\u001b[0m Trial 75 finished with value: 0.3075564645920559 and parameters: {'tol': 0.10374701392653762, 'Cs': 13, 'max_iter': 155, 'penalty': 'l2'}. Best is trial 75 with value: 0.3075564645920559.\u001b[0m\n",
      "\u001b[32m[I 2021-12-07 13:27:52,085]\u001b[0m Trial 76 finished with value: 0.30759454393720465 and parameters: {'tol': 1.7655793816202676e-07, 'Cs': 15, 'max_iter': 3383, 'penalty': 'l2'}. Best is trial 75 with value: 0.3075564645920559.\u001b[0m\n",
      "\u001b[32m[I 2021-12-07 13:28:21,399]\u001b[0m Trial 77 finished with value: 0.3075670371158694 and parameters: {'tol': 0.10050679740679015, 'Cs': 13, 'max_iter': 460, 'penalty': 'l2'}. Best is trial 75 with value: 0.3075564645920559.\u001b[0m\n",
      "\u001b[32m[I 2021-12-07 13:28:52,763]\u001b[0m Trial 78 finished with value: 0.30759454393720465 and parameters: {'tol': 0.08323837411567656, 'Cs': 15, 'max_iter': 2990, 'penalty': 'l2'}. Best is trial 75 with value: 0.3075564645920559.\u001b[0m\n",
      "\u001b[32m[I 2021-12-07 13:29:22,822]\u001b[0m Trial 79 finished with value: 0.3075632486769288 and parameters: {'tol': 3.5929628996335194e-07, 'Cs': 14, 'max_iter': 3908, 'penalty': 'l2'}. Best is trial 75 with value: 0.3075564645920559.\u001b[0m\n",
      "\u001b[32m[I 2021-12-07 13:29:52,222]\u001b[0m Trial 80 finished with value: 0.3075670371158694 and parameters: {'tol': 9.732818072365507e-07, 'Cs': 13, 'max_iter': 4557, 'penalty': 'l2'}. Best is trial 75 with value: 0.3075564645920559.\u001b[0m\n",
      "\u001b[32m[I 2021-12-07 13:30:23,512]\u001b[0m Trial 81 finished with value: 0.3075632486769288 and parameters: {'tol': 0.9754359747568576, 'Cs': 14, 'max_iter': 355, 'penalty': 'l2'}. Best is trial 75 with value: 0.3075564645920559.\u001b[0m\n",
      "\u001b[32m[I 2021-12-07 13:30:54,862]\u001b[0m Trial 82 finished with value: 0.3075632486769288 and parameters: {'tol': 0.885770105331316, 'Cs': 14, 'max_iter': 276, 'penalty': 'l2'}. Best is trial 75 with value: 0.3075564645920559.\u001b[0m\n",
      "\u001b[32m[I 2021-12-07 13:31:15,300]\u001b[0m Trial 83 finished with value: 0.30756756820303294 and parameters: {'tol': 0.5612177177613856, 'Cs': 7, 'max_iter': 129, 'penalty': 'l2'}. Best is trial 75 with value: 0.3075564645920559.\u001b[0m\n",
      "\u001b[32m[I 2021-12-07 13:31:49,571]\u001b[0m Trial 84 finished with value: 0.30759454393720465 and parameters: {'tol': 0.2212121121971205, 'Cs': 15, 'max_iter': 825, 'penalty': 'l2'}. Best is trial 75 with value: 0.3075564645920559.\u001b[0m\n",
      "\u001b[32m[I 2021-12-07 13:32:17,475]\u001b[0m Trial 85 finished with value: 0.30756834821155765 and parameters: {'tol': 0.15879079868963555, 'Cs': 12, 'max_iter': 486, 'penalty': 'l2'}. Best is trial 75 with value: 0.3075564645920559.\u001b[0m\n",
      "\u001b[32m[I 2021-12-07 13:32:47,262]\u001b[0m Trial 86 finished with value: 0.3075670371158694 and parameters: {'tol': 0.005900565835548838, 'Cs': 13, 'max_iter': 4037, 'penalty': 'l2'}. Best is trial 75 with value: 0.3075564645920559.\u001b[0m\n",
      "\u001b[32m[I 2021-12-07 13:33:21,043]\u001b[0m Trial 87 finished with value: 0.30759454393720465 and parameters: {'tol': 0.19551673796068547, 'Cs': 15, 'max_iter': 776, 'penalty': 'l2'}. Best is trial 75 with value: 0.3075564645920559.\u001b[0m\n",
      "\u001b[32m[I 2021-12-07 13:33:44,436]\u001b[0m Trial 88 finished with value: 0.3076872821048674 and parameters: {'tol': 0.05600815438775253, 'Cs': 4, 'max_iter': 648, 'penalty': 'l2'}. Best is trial 75 with value: 0.3075564645920559.\u001b[0m\n",
      "\u001b[32m[I 2021-12-07 13:34:14,245]\u001b[0m Trial 89 finished with value: 0.3075670371158694 and parameters: {'tol': 0.002627147481814329, 'Cs': 13, 'max_iter': 409, 'penalty': 'l2'}. Best is trial 75 with value: 0.3075564645920559.\u001b[0m\n",
      "\u001b[32m[I 2021-12-07 13:34:46,023]\u001b[0m Trial 90 finished with value: 0.3075632486769288 and parameters: {'tol': 0.011621775478865313, 'Cs': 14, 'max_iter': 4418, 'penalty': 'l2'}. Best is trial 75 with value: 0.3075564645920559.\u001b[0m\n",
      "\u001b[32m[I 2021-12-07 13:35:19,680]\u001b[0m Trial 91 finished with value: 0.3075632486769288 and parameters: {'tol': 0.0004088748942962523, 'Cs': 14, 'max_iter': 4378, 'penalty': 'l2'}. Best is trial 75 with value: 0.3075564645920559.\u001b[0m\n",
      "\u001b[32m[I 2021-12-07 13:35:52,104]\u001b[0m Trial 92 finished with value: 0.3075632486769288 and parameters: {'tol': 0.0001687850989684112, 'Cs': 14, 'max_iter': 4842, 'penalty': 'l2'}. Best is trial 75 with value: 0.3075564645920559.\u001b[0m\n",
      "\u001b[32m[I 2021-12-07 13:36:25,538]\u001b[0m Trial 93 finished with value: 0.3075632486769288 and parameters: {'tol': 5.210092960520994e-05, 'Cs': 14, 'max_iter': 4791, 'penalty': 'l2'}. Best is trial 75 with value: 0.3075564645920559.\u001b[0m\n",
      "\u001b[32m[I 2021-12-07 13:37:00,144]\u001b[0m Trial 94 finished with value: 0.30759454393720465 and parameters: {'tol': 5.585497731543541e-05, 'Cs': 15, 'max_iter': 1597, 'penalty': 'l2'}. Best is trial 75 with value: 0.3075564645920559.\u001b[0m\n",
      "\u001b[32m[I 2021-12-07 13:37:28,844]\u001b[0m Trial 95 finished with value: 0.3075670371158694 and parameters: {'tol': 0.03805701540597078, 'Cs': 13, 'max_iter': 565, 'penalty': 'l2'}. Best is trial 75 with value: 0.3075564645920559.\u001b[0m\n",
      "\u001b[32m[I 2021-12-07 13:38:05,494]\u001b[0m Trial 96 finished with value: 0.3075632486769288 and parameters: {'tol': 0.0004979025066375528, 'Cs': 14, 'max_iter': 4090, 'penalty': 'l2'}. Best is trial 75 with value: 0.3075564645920559.\u001b[0m\n",
      "\u001b[32m[I 2021-12-07 13:38:36,657]\u001b[0m Trial 97 finished with value: 0.30759454393720465 and parameters: {'tol': 1.0458906483370263e-07, 'Cs': 15, 'max_iter': 3456, 'penalty': 'l2'}. Best is trial 75 with value: 0.3075564645920559.\u001b[0m\n",
      "\u001b[32m[I 2021-12-07 13:39:07,758]\u001b[0m Trial 98 finished with value: 0.3075670371158694 and parameters: {'tol': 0.02270998514973815, 'Cs': 13, 'max_iter': 3735, 'penalty': 'l2'}. Best is trial 75 with value: 0.3075564645920559.\u001b[0m\n",
      "\u001b[32m[I 2021-12-07 13:39:40,566]\u001b[0m Trial 99 finished with value: 0.3075632486769288 and parameters: {'tol': 1.5049913611731498e-05, 'Cs': 14, 'max_iter': 3240, 'penalty': 'l2'}. Best is trial 75 with value: 0.3075564645920559.\u001b[0m\n"
     ]
    },
    {
     "name": "stdout",
     "output_type": "stream",
     "text": [
      "Number of finished trials: 100\n",
      "Best trial: {'tol': 0.10374701392653762, 'Cs': 13, 'max_iter': 155, 'penalty': 'l2'}\n"
     ]
    }
   ],
   "source": [
    "study_log = optuna.create_study(direction=\"minimize\")\n",
    "study_log.optimize(objective_log, n_trials=100)\n",
    "print(\"Number of finished trials: {}\".format(len(study_log.trials)))\n",
    "print(\"Best trial:\", study_log.best_trial.params)"
   ]
  },
  {
   "cell_type": "code",
   "execution_count": 55,
   "id": "492b914e",
   "metadata": {},
   "outputs": [
    {
     "data": {
      "text/plain": [
       "{'tol': 0.10374701392653762, 'Cs': 13, 'max_iter': 155, 'penalty': 'l2'}"
      ]
     },
     "execution_count": 55,
     "metadata": {},
     "output_type": "execute_result"
    }
   ],
   "source": [
    "study_log.best_params"
   ]
  },
  {
   "cell_type": "code",
   "execution_count": null,
   "id": "51555908",
   "metadata": {},
   "outputs": [],
   "source": []
  },
  {
   "cell_type": "code",
   "execution_count": null,
   "id": "e3f2c1c9",
   "metadata": {},
   "outputs": [],
   "source": [
    "def objective(trial,data=X_train,target=y_train):\n",
    "    \n",
    "    train_x, test_x, train_y, test_y = train_test_split(data, target, test_size=0.15,random_state=42)\n",
    "    \n",
    "    # To select which parameters to optimize, please look at the XGBoost documentation:\n",
    "    # https://xgboost.readthedocs.io/en/latest/parameter.html\n",
    "    param = {\n",
    "        #'random_state': 10,\n",
    "        #'random_state': trial.suggest_int('random_state', 0,2021),\n",
    "        'reg_lambda': trial.suggest_loguniform('reg_lambda', 1e-3, 10.0),\n",
    "        'reg_alpha': trial.suggest_loguniform('reg_alpha', 1e-3, 10.0),\n",
    "        'colsample_bytree': trial.suggest_categorical('colsample_bytree', [0.1,0.2,0.3,0.4,0.5,0.6,0.7,0.8,0.9,1.0]),\n",
    "        'subsample': trial.suggest_categorical('subsample', [0.1,0.2,0.3,0.4,0.5,0.6,0.7,0.8,0.9,1.0]),\n",
    "        'learning_rate': trial.suggest_loguniform('learning_rate', 0.0001,0.1),\n",
    "        #'n_estimators': trial.suggest_int(\"n_estimators\", 50, 5000),\n",
    "        'max_depth': trial.suggest_categorical('max_depth', [4,5,7,9,11,13,15,17,20]),\n",
    "        'min_child_samples': trial.suggest_int('min_child_samples', 1, 300),\n",
    "        'num_leaves': trial.suggest_int('num_leaves', 15, 120),\n",
    "    }\n",
    "    model = LGBMClassifier(**param, n_estimators=5000, metric= 'binary_logloss', random_state=10)  \n",
    "    \n",
    "    model.fit(train_x,train_y,eval_set=[(test_x, test_y)], early_stopping_rounds=300, verbose=500)\n",
    "    \n",
    "    preds = model.predict_proba(test_x)[:,1]\n",
    "    \n",
    "    roc = log_loss(test_y, preds)\n",
    "    \n",
    "    return roc"
   ]
  },
  {
   "cell_type": "code",
   "execution_count": null,
   "id": "159a3049",
   "metadata": {
    "scrolled": true
   },
   "outputs": [],
   "source": [
    "study_lgbm = optuna.create_study(direction=\"minimize\")\n",
    "study_lgbm.optimize(objective, n_trials=100)\n",
    "print(\"Number of finished trials: {}\".format(len(study_lgbm.trials)))\n",
    "print(\"Best trial:\", study_lgbm.best_trial.params)"
   ]
  },
  {
   "cell_type": "code",
   "execution_count": null,
   "id": "874122d5",
   "metadata": {},
   "outputs": [],
   "source": [
    "study_lgbm.best_params"
   ]
  },
  {
   "cell_type": "code",
   "execution_count": 57,
   "id": "89238c7f",
   "metadata": {},
   "outputs": [],
   "source": [
    "sc = RobustScaler()\n",
    "sc.fit(X_train)\n",
    "X_train= sc.transform(X_train)\n",
    "X_test= sc.transform(X_test)"
   ]
  },
  {
   "cell_type": "code",
   "execution_count": null,
   "id": "ce2bffca",
   "metadata": {},
   "outputs": [],
   "source": [
    "X_train.shape"
   ]
  },
  {
   "cell_type": "code",
   "execution_count": null,
   "id": "bc3499f0",
   "metadata": {},
   "outputs": [],
   "source": [
    "def my_model():\n",
    "    inputs= layers.Input(shape = (50))\n",
    "    first= layers.Dense(128, activation= 'relu')\n",
    "    #embed = layers.Flatten()(first)\n",
    "    second= layers.Dense(64, activation='relu')(first)\n",
    "    dropout= layers.Dropout(0.2)(first)\n",
    "    third= layers.Dense(64, activation='relu')(dropout)\n",
    "    dropout= layers.Dropout(0.2)(third)\n",
    "    conc= layers.concatenate()([second, third])\n",
    "    final= layers.Dense(1, activation='sigmoid')(conc)\n",
    "    model = Model(inputs, final)\n",
    "    return model"
   ]
  },
  {
   "cell_type": "code",
   "execution_count": null,
   "id": "671d5baf",
   "metadata": {},
   "outputs": [],
   "source": [
    "cce = tf.keras.losses.BinaryCrossentropy()\n",
    "\n",
    "es = tf.keras.callbacks.EarlyStopping(\n",
    "    monitor='val_binary_crossentropy', min_delta=1e-05, patience=5, verbose=0,\n",
    "    mode='min', baseline=None, restore_best_weights=True)\n",
    "\n",
    "plateau = tf.keras.callbacks.ReduceLROnPlateau(mode='min',\n",
    "    monitor='val_binary_crossentropy', factor=0.7, patience=5, verbose=0)"
   ]
  },
  {
   "cell_type": "code",
   "execution_count": 64,
   "id": "4d9f3ea5",
   "metadata": {},
   "outputs": [
    {
     "name": "stdout",
     "output_type": "stream",
     "text": [
      "=============== Fold No: 1 ===============\n",
      "0.31206345447112666\n",
      "=============== Fold No: 2 ===============\n",
      "0.316764690722545\n",
      "=============== Fold No: 3 ===============\n",
      "0.31931428502381176\n",
      "=============== Fold No: 4 ===============\n",
      "0.31137947721280373\n",
      "=============== Fold No: 5 ===============\n",
      "0.31767239512738604\n",
      "=============== Fold No: 6 ===============\n",
      "0.31650907321564636\n",
      "=============== Fold No: 7 ===============\n",
      "0.31643262879992473\n",
      "=============== Fold No: 8 ===============\n",
      "0.31561264601610395\n",
      "=============== Fold No: 9 ===============\n",
      "0.3149506778784241\n",
      "=============== Fold No: 10 ===============\n",
      "0.31667088761697193\n",
      "RMSE train:  0.3157370216084744\n"
     ]
    }
   ],
   "source": [
    "subbed = []\n",
    "r2= []\n",
    "n_folds=10\n",
    "preds = np.zeros(len(X_test.index),)\n",
    "f= StratifiedKFold(n_splits=10, shuffle=True, random_state=10)\n",
    "for fold, (train_idx, test_idx) in enumerate(f.split(X_train, y_train)):\n",
    "    print('=============== Fold No:',fold+1,'===============')\n",
    "    X_tr, X_tst = X_train.iloc[train_idx], X_train.iloc[test_idx]\n",
    "    y_tr, y_tst = y_train.iloc[train_idx], y_train.iloc[test_idx]\n",
    "    \n",
    "    model= RandomForestClassifier(random_state=10,n_estimators= 500)\n",
    "    model.fit(X_tr, y_tr)\n",
    "    print(log_loss(y_tst, model.predict_proba(X_tst)[:,1]))\n",
    "    subbed.append(log_loss(y_tst, model.predict_proba(X_tst)[:,1]))\n",
    "    test_oof_preds = model.predict_proba(X_test)[:,1]\n",
    "    preds += test_oof_preds / n_folds\n",
    "    \n",
    "print('RMSE train: ',(np.mean(subbed)))"
   ]
  },
  {
   "cell_type": "code",
   "execution_count": null,
   "id": "c7e27da9",
   "metadata": {},
   "outputs": [],
   "source": []
  },
  {
   "cell_type": "code",
   "execution_count": null,
   "id": "c170c805",
   "metadata": {},
   "outputs": [],
   "source": [
    "def conv_model():\n",
    "\n",
    "    conv_inputs = layers.Input(shape = (83))\n",
    "    #----------- Embedding layers ----------------------#\n",
    "    embed = layers.Embedding (input_dim = 354, \n",
    "                              output_dim = 7,\n",
    "                              embeddings_regularizer='l2')(conv_inputs)\n",
    "    #----------- Convolution layers ----------------------#\n",
    "    embed = layers.Conv1D(18,1,activation = 'relu')(embed)\n",
    "    embed = layers.Flatten()(embed)\n",
    "    hidden = layers.Dropout(0.3)(embed)\n",
    "    \n",
    "    #----------- Residual blocks layers ----------------------#\n",
    "    hidden = tfa.layers.WeightNormalization(\n",
    "                layers.Dense(\n",
    "                units=32,\n",
    "                activation ='selu',\n",
    "                kernel_initializer = \"lecun_normal\"))(hidden)\n",
    "    \n",
    "    output = layers.Dropout(0.3)(layers.Concatenate()([embed, hidden]))\n",
    "    output = tfa.layers.WeightNormalization(\n",
    "    layers.Dense(\n",
    "                units = 32,\n",
    "                activation='relu',\n",
    "                kernel_initializer = \"lecun_normal\"))(output) \n",
    "    output = layers.Dropout(0.4)(layers.Concatenate()([embed, hidden, output]))\n",
    "    output = tfa.layers.WeightNormalization(\n",
    "    layers.Dense(\n",
    "                units = 32, \n",
    "                activation = 'elu',\n",
    "                kernel_initializer = \"lecun_normal\"))(output)\n",
    "    \n",
    "    #----------- Final layer -----------------------#\n",
    "    conv_outputs = layers.Dense(\n",
    "                units = 1, \n",
    "                activation ='sigmoid',\n",
    "                kernel_initializer =\"lecun_normal\")(output)\n",
    "    \n",
    "    #----------- Model instantiation  ---------------#\n",
    "    model = Model(conv_inputs,conv_outputs)\n",
    "    \n",
    "    return model"
   ]
  },
  {
   "cell_type": "code",
   "execution_count": null,
   "id": "35b8435e",
   "metadata": {},
   "outputs": [],
   "source": []
  }
 ],
 "metadata": {
  "kernelspec": {
   "display_name": "Python 3 (ipykernel)",
   "language": "python",
   "name": "python3"
  },
  "language_info": {
   "codemirror_mode": {
    "name": "ipython",
    "version": 3
   },
   "file_extension": ".py",
   "mimetype": "text/x-python",
   "name": "python",
   "nbconvert_exporter": "python",
   "pygments_lexer": "ipython3",
   "version": "3.9.7"
  }
 },
 "nbformat": 4,
 "nbformat_minor": 5
}
